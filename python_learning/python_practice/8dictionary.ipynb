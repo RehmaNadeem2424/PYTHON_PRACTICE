{
 "cells": [
  {
   "cell_type": "code",
   "execution_count": 3,
   "metadata": {},
   "outputs": [
    {
     "name": "stdout",
     "output_type": "stream",
     "text": [
      "{'A': 'ali', 'B': '20'}\n"
     ]
    }
   ],
   "source": [
    "results:dict = {'A' : 'ali' , 'B' : '20'}\n",
    "print(results)"
   ]
  },
  {
   "cell_type": "code",
   "execution_count": 5,
   "metadata": {},
   "outputs": [
    {
     "data": {
      "text/plain": [
       "'20'"
      ]
     },
     "execution_count": 5,
     "metadata": {},
     "output_type": "execute_result"
    }
   ],
   "source": [
    "results['B']"
   ]
  },
  {
   "cell_type": "code",
   "execution_count": 17,
   "metadata": {},
   "outputs": [
    {
     "name": "stdout",
     "output_type": "stream",
     "text": [
      "ali\n",
      "20\n"
     ]
    }
   ],
   "source": [
    "print(results['A'])\n",
    "print(results['B'])"
   ]
  },
  {
   "cell_type": "code",
   "execution_count": 10,
   "metadata": {},
   "outputs": [
    {
     "name": "stdout",
     "output_type": "stream",
     "text": [
      "20\n"
     ]
    }
   ],
   "source": [
    "new_result = results['B']\n",
    "print(new_result)"
   ]
  },
  {
   "cell_type": "code",
   "execution_count": 14,
   "metadata": {},
   "outputs": [
    {
     "name": "stdout",
     "output_type": "stream",
     "text": [
      "{'A': 'ali', 'B': '20', 'c': 'ahmad', 'D': 40}\n"
     ]
    }
   ],
   "source": [
    "results['c'] = 'ahmad'\n",
    "results['D'] = 40\n",
    "print(results)"
   ]
  },
  {
   "cell_type": "code",
   "execution_count": 1,
   "metadata": {},
   "outputs": [],
   "source": [
    "user = {'user_name': 'rehmannadeem' ,\n",
    "         'first': 'rehma' , \n",
    "         'last': 'nadeem'}"
   ]
  },
  {
   "cell_type": "code",
   "execution_count": 5,
   "metadata": {},
   "outputs": [
    {
     "name": "stdout",
     "output_type": "stream",
     "text": [
      "('user_name', 'rehmannadeem')\n",
      "('first', 'rehma')\n",
      "('last', 'nadeem')\n"
     ]
    }
   ],
   "source": [
    "for x in user.items():\n",
    "    print(x)"
   ]
  },
  {
   "cell_type": "code",
   "execution_count": 9,
   "metadata": {},
   "outputs": [
    {
     "name": "stdout",
     "output_type": "stream",
     "text": [
      "\n",
      "key :user_name\n",
      "value :rehmannadeem\n",
      "\n",
      "key :first\n",
      "value :rehma\n",
      "\n",
      "key :last\n",
      "value :nadeem\n"
     ]
    }
   ],
   "source": [
    "for key , value in user.items():\n",
    "    print(f\"\\nkey :{key}\")\n",
    "    print(f\"value :{value}\")"
   ]
  },
  {
   "cell_type": "code",
   "execution_count": 8,
   "metadata": {},
   "outputs": [],
   "source": [
    "dic1 = {1:\"ali\",2:\"nadeem\",3:\"khadim\"}\n",
    "dic2 = {\"A\":\"apple\" , \"B\":\"cherry\" , \"C\":\"banana\"}"
   ]
  },
  {
   "cell_type": "code",
   "execution_count": 9,
   "metadata": {},
   "outputs": [
    {
     "name": "stdout",
     "output_type": "stream",
     "text": [
      "{'A': 'apple', 'B': 'cherry', 'C': 'banana'}\n"
     ]
    }
   ],
   "source": [
    "print(dic2)"
   ]
  },
  {
   "cell_type": "code",
   "execution_count": 12,
   "metadata": {},
   "outputs": [
    {
     "name": "stdout",
     "output_type": "stream",
     "text": [
      "{'A': 'apple', 'B': 'cherry', 'C': 'banana', 'd': 'pear'}\n"
     ]
    }
   ],
   "source": [
    "dic2[\"d\"] = \"pear\"\n",
    "print(dic2)"
   ]
  },
  {
   "cell_type": "code",
   "execution_count": 10,
   "metadata": {},
   "outputs": [
    {
     "name": "stdout",
     "output_type": "stream",
     "text": [
      "{1: 'ali', 2: 'nadeem', 3: 'khadim', 'A': 'apple', 'B': 'cherry', 'C': 'banana'}\n"
     ]
    }
   ],
   "source": [
    "dic1.update(dic2)\n",
    "print(dic1)\n"
   ]
  }
 ],
 "metadata": {
  "kernelspec": {
   "display_name": "Python 3",
   "language": "python",
   "name": "python3"
  },
  "language_info": {
   "codemirror_mode": {
    "name": "ipython",
    "version": 3
   },
   "file_extension": ".py",
   "mimetype": "text/x-python",
   "name": "python",
   "nbconvert_exporter": "python",
   "pygments_lexer": "ipython3",
   "version": "3.12.4"
  }
 },
 "nbformat": 4,
 "nbformat_minor": 2
}
