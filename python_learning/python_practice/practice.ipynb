{
 "cells": [
  {
   "cell_type": "code",
   "execution_count": 51,
   "metadata": {},
   "outputs": [],
   "source": [
    "age = int(input(\"Enter your age: \"))\n",
    "\n",
    "if age < 1:\n",
    "    print(\"age is not valid\")\n",
    "elif age < 5:\n",
    "    print(\"baby\")\n",
    "elif age < 10:\n",
    "    print(\"you are small\")\n",
    "elif age < 13:\n",
    "    print(\"you are a big kid.\")\n",
    "elif age > 18:\n",
    "    print(\"Teenager\")\n",
    "elif age < 25:\n",
    "    print(\"Young Adult\")\n",
    "elif age < 35:\n",
    "    print(\"Adult\")\n",
    "elif age < 50:\n",
    "    print(\"Middle-aged\")\n",
    "elif age < 65:\n",
    "    print(\"you are older now\")\n",
    "elif age > 80:\n",
    "    print(\"very old\")\n",
    "elif age > 100:\n",
    "    print(\"senior citizen\")\n",
    "else:\n",
    "    print(\"you have lived a very long life.\")"
   ]
  },
  {
   "cell_type": "code",
   "execution_count": 2,
   "metadata": {},
   "outputs": [
    {
     "name": "stdout",
     "output_type": "stream",
     "text": [
      "you are too young.\n"
     ]
    }
   ],
   "source": [
    "age = int(input(\"enter your age:\"))\n",
    "degree = input(\"is your bechelor's degree complete?\")\n",
    "GPA = float(input(\"enter your GPA.\"))\n",
    "if age > 20:\n",
    "       if degree == \"yes\":\n",
    "             if gpa > 3.5:\n",
    "                   print(\"you are qualified, your degree is complete.\")\n",
    "             else:\n",
    "                 print(\"you have the right age and gpa but your degree is incomplete.\")\n",
    "       else:          \n",
    "            print(\"you are too young.\")\n",
    "else:\n",
    "    print(\"your gpa is too low to qualify.\")\n",
    "      \n"
   ]
  },
  {
   "cell_type": "code",
   "execution_count": 6,
   "metadata": {},
   "outputs": [
    {
     "name": "stdout",
     "output_type": "stream",
     "text": [
      "you are not selected\n"
     ]
    }
   ],
   "source": [
    "grades = int(input(\"enter your grades.\"))\n",
    "if grades > 90:\n",
    "    print(\"excellent performance\")\n",
    "    if grades == 90:\n",
    "        print(\"you are selected\")\n",
    "    else:\n",
    "        print(\"keep hard working\")\n",
    "else:\n",
    "    print(\"you are not selected\")"
   ]
  },
  {
   "cell_type": "code",
   "execution_count": 12,
   "metadata": {},
   "outputs": [
    {
     "name": "stdout",
     "output_type": "stream",
     "text": [
      "********"
     ]
    }
   ],
   "source": [
    "for x in range (1,3):\n",
    "    for j in range(1,5):\n",
    "        print(\"*\" , end =\"\")\n",
    "        "
   ]
  },
  {
   "cell_type": "code",
   "execution_count": 4,
   "metadata": {},
   "outputs": [
    {
     "name": "stdout",
     "output_type": "stream",
     "text": [
      "1\n",
      "2\n",
      "3\n",
      "4\n",
      "5\n",
      "6\n",
      "7\n",
      "8\n",
      "9\n"
     ]
    }
   ],
   "source": [
    "i = 1\n",
    "while i  <= 9:\n",
    "    print(i)\n",
    "    i += 1"
   ]
  },
  {
   "cell_type": "code",
   "execution_count": 6,
   "metadata": {},
   "outputs": [
    {
     "name": "stdout",
     "output_type": "stream",
     "text": [
      "1\n",
      "2\n",
      "3\n",
      "4\n",
      "5\n",
      "6\n",
      "7\n",
      "8\n",
      "9\n",
      "10\n"
     ]
    }
   ],
   "source": [
    "for z in range(1,11): \n",
    "  print(z)"
   ]
  },
  {
   "cell_type": "code",
   "execution_count": 17,
   "metadata": {},
   "outputs": [
    {
     "name": "stdout",
     "output_type": "stream",
     "text": [
      "1\n",
      "2\n",
      "3\n",
      "4\n",
      "5\n",
      "6\n",
      "7\n",
      "8\n",
      "9\n"
     ]
    }
   ],
   "source": [
    "i = 1\n",
    "while i <10:\n",
    "    print(i)\n",
    "    i +=1"
   ]
  },
  {
   "cell_type": "code",
   "execution_count": 9,
   "metadata": {},
   "outputs": [
    {
     "data": {
      "text/plain": [
       "'even'"
      ]
     },
     "execution_count": 9,
     "metadata": {},
     "output_type": "execute_result"
    }
   ],
   "source": [
    "def even_odd(x):\n",
    "    if x % 2 ==0:\n",
    "        return \"even\"\n",
    "    else:\n",
    "        return \"odd\"\n",
    "\n",
    "even_odd(int(input(\"enter number:\")))     "
   ]
  },
  {
   "cell_type": "code",
   "execution_count": 43,
   "metadata": {},
   "outputs": [
    {
     "name": "stdout",
     "output_type": "stream",
     "text": [
      "1\n"
     ]
    }
   ],
   "source": [
    "z = 1\n",
    "while z <=10:\n",
    "    if z ==5: \n",
    "       print(\"stopping the loop at 5\")\n",
    "    break\n",
    "print(z)\n",
    "z +=1"
   ]
  },
  {
   "cell_type": "code",
   "execution_count": 3,
   "metadata": {},
   "outputs": [
    {
     "name": "stdout",
     "output_type": "stream",
     "text": [
      "2\n",
      "4\n",
      "6\n",
      "8\n"
     ]
    }
   ],
   "source": [
    "numbers = [1,2,3,4,5,6,7,8,9]\n",
    "total = 0\n",
    "for x in numbers:\n",
    "    if x % 2 ==0:\n",
    "        print(x)\n",
    "        total +=x\n",
    "\n",
    "    \n",
    "\n"
   ]
  },
  {
   "cell_type": "code",
   "execution_count": 11,
   "metadata": {},
   "outputs": [
    {
     "name": "stdout",
     "output_type": "stream",
     "text": [
      "15\n",
      "11\n"
     ]
    }
   ],
   "source": [
    "def  difference(a,b):\n",
    "  return a - b\n",
    "result1 = (60-45)\n",
    "result2 = (23-12)\n",
    "print(result1)\n",
    "print(result2)\n"
   ]
  },
  {
   "cell_type": "code",
   "execution_count": null,
   "metadata": {},
   "outputs": [],
   "source": [
    "num =  int(input(\"enter number:\"))\n"
   ]
  },
  {
   "cell_type": "code",
   "execution_count": 4,
   "metadata": {},
   "outputs": [
    {
     "data": {
      "text/plain": [
       "7"
      ]
     },
     "execution_count": 4,
     "metadata": {},
     "output_type": "execute_result"
    }
   ],
   "source": [
    "def sum(a : int ,b : int) ->int:\n",
    "     return a + b\n",
    "(sum(2,5))"
   ]
  },
  {
   "cell_type": "code",
   "execution_count": 20,
   "metadata": {},
   "outputs": [
    {
     "name": "stdout",
     "output_type": "stream",
     "text": [
      "False\n"
     ]
    }
   ],
   "source": [
    "def is_prime(n):\n",
    "    if n <= 1:\n",
    "            return False\n",
    "    for i in range(2,n):\n",
    "        if n % i ==0:\n",
    "            return False\n",
    "        \n",
    "    return True \n",
    "print(is_prime(9))   "
   ]
  },
  {
   "cell_type": "code",
   "execution_count": 1,
   "metadata": {},
   "outputs": [
    {
     "name": "stdout",
     "output_type": "stream",
     "text": [
      "0\n",
      "1\n",
      "2\n",
      "3\n"
     ]
    }
   ],
   "source": [
    "z = 0\n",
    "while z < 4:\n",
    "    print(z)\n",
    "    z +=1"
   ]
  },
  {
   "cell_type": "code",
   "execution_count": 5,
   "metadata": {},
   "outputs": [
    {
     "name": "stdout",
     "output_type": "stream",
     "text": [
      "0\n",
      "1\n",
      "2\n",
      "3\n",
      "4\n"
     ]
    }
   ],
   "source": [
    "for x in range(5):\n",
    "    if x == 5:\n",
    "        break\n",
    "    print(x)"
   ]
  },
  {
   "cell_type": "code",
   "execution_count": 12,
   "metadata": {},
   "outputs": [
    {
     "name": "stdout",
     "output_type": "stream",
     "text": [
      "someone said \n",
      "\t\t\"ali\" is a 'good' boy \n",
      "\tbut \n",
      " he often make mistakes\n"
     ]
    }
   ],
   "source": [
    "print(\"someone said \\n\\t\\t\\\"ali\\\" is a 'good' boy \\n\\tbut \\n he often make mistakes\")"
   ]
  },
  {
   "cell_type": "code",
   "execution_count": 6,
   "metadata": {},
   "outputs": [
    {
     "name": "stdout",
     "output_type": "stream",
     "text": [
      " rehma 21 graduation"
     ]
    }
   ],
   "source": [
    "Intro = \"my name is rehma my age is 21 my qualification is graduation\"\n",
    "print(Intro[10:16] , end=\"\")\n",
    "print(Intro[26:30],  end=\"\")\n",
    "print(Intro[50:61], end=\"\")"
   ]
  },
  {
   "cell_type": "code",
   "execution_count": 2,
   "metadata": {},
   "outputs": [
    {
     "name": "stdout",
     "output_type": "stream",
     "text": [
      "2468\n"
     ]
    }
   ],
   "source": [
    "numbers = \"123456789\"\n",
    "print(numbers[1::2])"
   ]
  },
  {
   "cell_type": "code",
   "execution_count": 25,
   "metadata": {},
   "outputs": [
    {
     "name": "stdout",
     "output_type": "stream",
     "text": [
      "['r', 'e', 'h', 'm']\n",
      "rehm\n"
     ]
    }
   ],
   "source": [
    "name = \"rehma\"\n",
    "li = list(name)\n",
    "li.pop()\n",
    "print(li)\n",
    "name2 = \"\".join(li)\n",
    "print(name2)"
   ]
  },
  {
   "cell_type": "code",
   "execution_count": 6,
   "metadata": {},
   "outputs": [
    {
     "name": "stdout",
     "output_type": "stream",
     "text": [
      "B+ grade\n"
     ]
    }
   ],
   "source": [
    "marks = int(input(\"Enter your marks:\"))\n",
    "if marks >= 90:\n",
    "    print(\"A grade\")\n",
    "elif marks >= 80:\n",
    "    print(\"B grade\")\n",
    "elif marks >= 70:\n",
    "    print(\"B+ grade\")\n",
    "elif marks >= 60:\n",
    "    print(\"B- grade\") \n",
    "elif marks >= 50 :\n",
    "    print(\"C grade\")\n",
    "else:\n",
    "    (\"Fail\")       "
   ]
  }
 ],
 "metadata": {
  "kernelspec": {
   "display_name": "Python 3",
   "language": "python",
   "name": "python3"
  },
  "language_info": {
   "codemirror_mode": {
    "name": "ipython",
    "version": 3
   },
   "file_extension": ".py",
   "mimetype": "text/x-python",
   "name": "python",
   "nbconvert_exporter": "python",
   "pygments_lexer": "ipython3",
   "version": "3.12.4"
  }
 },
 "nbformat": 4,
 "nbformat_minor": 2
}
