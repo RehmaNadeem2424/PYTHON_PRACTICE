{
 "cells": [
  {
   "cell_type": "code",
   "execution_count": 10,
   "metadata": {},
   "outputs": [],
   "source": [
    "#inheritance\n",
    "#parent class\n",
    "class Animal():\n",
    "    def speak(self):\n",
    "        print(\"Animal make a sound\")\n",
    "# child class        \n",
    "class Dog(Animal):\n",
    "    # override the speak method\n",
    "    def speak(self):\n",
    "        print(\"dog barks\")\n",
    "        \n",
    "        #super().speak() # call's the parent class 's speak method"
   ]
  },
  {
   "cell_type": "code",
   "execution_count": 11,
   "metadata": {},
   "outputs": [
    {
     "name": "stdout",
     "output_type": "stream",
     "text": [
      "dog barks\n"
     ]
    }
   ],
   "source": [
    "d1 = Dog()\n",
    "d1.speak()\n",
    "\n"
   ]
  },
  {
   "cell_type": "code",
   "execution_count": 12,
   "metadata": {},
   "outputs": [
    {
     "name": "stdout",
     "output_type": "stream",
     "text": [
      "Something is decorating before the gift.\n",
      "this is new gift\n",
      "Something is decorating after the gift.\n"
     ]
    }
   ],
   "source": [
    "# DECORATOR:\n",
    "def my_decorator(gift): \n",
    "    def wrapper():\n",
    "        print(\"Something is decorating before the gift.\")\n",
    "        gift()\n",
    "        print(\"Something is decorating after the gift.\")\n",
    "    return wrapper\n",
    "\n",
    "@my_decorator \n",
    "def new_gift():\n",
    "  print(\"this is new gift\")\n",
    "\n",
    "new_gift()"
   ]
  },
  {
   "cell_type": "code",
   "execution_count": null,
   "metadata": {},
   "outputs": [],
   "source": [
    "# NUMPY:"
   ]
  },
  {
   "cell_type": "code",
   "execution_count": 18,
   "metadata": {},
   "outputs": [
    {
     "name": "stdout",
     "output_type": "stream",
     "text": [
      "[1, 2, 3, 4, 5, 'apple']\n"
     ]
    }
   ],
   "source": [
    "numbers: list[int] = [1,2,3,4,5 , 'apple']\n",
    "print(numbers)"
   ]
  }
 ],
 "metadata": {
  "kernelspec": {
   "display_name": "Python 3",
   "language": "python",
   "name": "python3"
  },
  "language_info": {
   "codemirror_mode": {
    "name": "ipython",
    "version": 3
   },
   "file_extension": ".py",
   "mimetype": "text/x-python",
   "name": "python",
   "nbconvert_exporter": "python",
   "pygments_lexer": "ipython3",
   "version": "3.12.4"
  }
 },
 "nbformat": 4,
 "nbformat_minor": 2
}
